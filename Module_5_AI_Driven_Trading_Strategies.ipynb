{
  "nbformat": 4,
  "nbformat_minor": 0,
  "metadata": {
    "colab": {
      "provenance": [],
      "authorship_tag": "ABX9TyMQ+tyVjS71YBAzokl8izVJ",
      "include_colab_link": true
    },
    "kernelspec": {
      "name": "python3",
      "display_name": "Python 3"
    },
    "language_info": {
      "name": "python"
    }
  },
  "cells": [
    {
      "cell_type": "markdown",
      "metadata": {
        "id": "view-in-github",
        "colab_type": "text"
      },
      "source": [
        "<a href=\"https://colab.research.google.com/github/leomercanti/Beginner_Investing_with_AI/blob/main/Module_5_AI_Driven_Trading_Strategies.ipynb\" target=\"_parent\"><img src=\"https://colab.research.google.com/assets/colab-badge.svg\" alt=\"Open In Colab\"/></a>"
      ]
    },
    {
      "cell_type": "markdown",
      "source": [
        "# **Module 5 AI-Driven Trading Strategies**\n",
        "\n",
        "- **Objective:** Develop and test AI-driven trading strategies.\n",
        "\n",
        "- **Topics:**\n",
        "- **Algorithmic Trading Basics:** Strategy design, backtesting.\n",
        "- **Reinforcement Learning:** Introduction to DQN (Deep Q-Network).\n",
        "\n",
        "\n",
        "- **Readings:**\n",
        "  - “Algorithmic Trading: Winning Strategies and Their Rationale” by Ernest P. Chan."
      ],
      "metadata": {
        "id": "XXct2Y92I60M"
      }
    },
    {
      "cell_type": "markdown",
      "source": [
        "### **5.1 Developing AI-Based Trading Strategies**\n",
        "\n",
        "- **Objective:** Understand how to design and implement trading strategies using AI models.\n",
        "\n",
        "<br>\n",
        "\n",
        "#### **Types of Trading Strategies**\n",
        "\n",
        "- **Algorithmic Trading:** Uses algorithms to execute trades based on predefined criteria.\n",
        "- **Quantitative Trading:** Relies on mathematical models to make trading decisions.\n",
        "- **High-Frequency Trading:** Involves executing a large number of trades at very high speeds.\n",
        "\n",
        "<br>\n",
        "\n",
        "#### **Strategy Development Process**\n",
        "\n",
        "- **Define the Strategy:** Determine the trading signals and rules. For example, using technical indicators like moving averages or RSI.\n",
        "- **Select the AI Model:** Choose appropriate models (e.g., regression, classification, reinforcement learning) based on the strategy.\n",
        "- **Train the Model:** Use historical data to train the AI model.\n",
        "- **Evaluate Performance:** Assess the model’s performance using metrics like Sharpe ratio, return on investment (ROI), and drawdown.\n",
        "- **Hands-on Example:** Moving Average Crossover Strategy"
      ],
      "metadata": {
        "id": "7MbGewH2JUQF"
      }
    },
    {
      "cell_type": "code",
      "execution_count": null,
      "metadata": {
        "id": "3REmPmVJIzKC"
      },
      "outputs": [],
      "source": [
        "# Define moving average crossover strategy\n",
        "def moving_average_crossover(data, short_window=40, long_window=100):\n",
        "    signals = pd.DataFrame(index=data.index)\n",
        "    signals['price'] = data['Close']\n",
        "    signals['short_mavg'] = data['Close'].rolling(window=short_window, min_periods=1, center=False).mean()\n",
        "    signals['long_mavg'] = data['Close'].rolling(window=long_window, min_periods=1, center=False).mean()\n",
        "    signals['signal'] = 0.0\n",
        "    signals['signal'][short_window:] = np.where(signals['short_mavg'][short_window:] > signals['long_mavg'][short_window:], 1.0, 0.0)\n",
        "    signals['positions'] = signals['signal'].diff()\n",
        "    return signals"
      ]
    },
    {
      "cell_type": "code",
      "source": [
        "# Apply strategy to data\n",
        "signals = moving_average_crossover(data)"
      ],
      "metadata": {
        "id": "QgapbNaTJ_8R"
      },
      "execution_count": null,
      "outputs": []
    },
    {
      "cell_type": "markdown",
      "source": [
        "- **Explanation:** This code implements a moving average crossover strategy where buy signals are generated when the short-term moving average crosses above the long-term moving average, and sell signals are generated when the opposite occurs."
      ],
      "metadata": {
        "id": "w2393ADwKCc1"
      }
    },
    {
      "cell_type": "markdown",
      "source": [
        "### **5.2 Backtesting**\n",
        "\n",
        "- **Objective:** Test trading strategies on historical data to evaluate their performance.\n",
        "\n",
        "<br>\n",
        "\n",
        "#### **What is Backtesting?**\n",
        "\n",
        "- **Definition:** Backtesting involves running a trading strategy on historical data to simulate its performance. It helps to evaluate how the strategy would have performed in the past.\n",
        "\n",
        "<br>\n",
        "\n",
        "#### **Backtesting Process**\n",
        "\n",
        "- **Historical Data:** Gather historical price and volume data for the assets being traded.\n",
        "- **Implement Strategy:** Apply the trading strategy to the historical data.\n",
        "- **Evaluate Performance:** Measure metrics such as total return, volatility, and maximum drawdown.\n",
        "- **Hands-on Example:** Backtesting Moving Average Strategy\n",
        "\n"
      ],
      "metadata": {
        "id": "ne9fRP5WKMUM"
      }
    },
    {
      "cell_type": "code",
      "source": [
        "# Backtest function to calculate performance metrics\n",
        "def backtest_strategy(signals, initial_capital=100000):\n",
        "    signals['positions'] = signals['positions'].fillna(0)\n",
        "    signals['holdings'] = (signals['positions'].cumsum() * signals['price'])\n",
        "    signals['cash'] = initial_capital - (signals['positions'] * signals['price']).cumsum()\n",
        "    signals['total'] = signals['cash'] + signals['holdings']\n",
        "    signals['returns'] = signals['total'].pct_change()\n",
        "    return signals"
      ],
      "metadata": {
        "id": "8khPj9PiKjFp"
      },
      "execution_count": null,
      "outputs": []
    },
    {
      "cell_type": "code",
      "source": [
        "# Apply backtesting\n",
        "results = backtest_strategy(signals)"
      ],
      "metadata": {
        "id": "8F-R-mjpKmr3"
      },
      "execution_count": null,
      "outputs": []
    },
    {
      "cell_type": "markdown",
      "source": [
        "- **Explanation:** This code calculates the performance metrics of the moving average strategy, including holdings, cash balance, total portfolio value, and returns."
      ],
      "metadata": {
        "id": "hUK4rGZaK5Cp"
      }
    },
    {
      "cell_type": "markdown",
      "source": [
        "### **5.3 Optimization**\n",
        "\n",
        "- **Objective:** Improve the performance of trading strategies by tuning parameters and incorporating additional features.\n",
        "\n",
        "<br>\n",
        "\n",
        "#### **Hyperparameter Tuning**\n",
        "\n",
        "- **Definition:** Adjusting the parameters of the model to improve its performance. Common techniques include grid search and random search.\n",
        "- **Hands-on Example:** Hyperparameter Tuning with Grid Search"
      ],
      "metadata": {
        "id": "JyMVzbtqK91M"
      }
    },
    {
      "cell_type": "code",
      "source": [
        "from sklearn.model_selection import GridSearchCV\n",
        "from sklearn.ensemble import RandomForestClassifier"
      ],
      "metadata": {
        "id": "GpyOG75sLMRs"
      },
      "execution_count": null,
      "outputs": []
    },
    {
      "cell_type": "code",
      "source": [
        "# Define parameter grid\n",
        "param_grid = {\n",
        "    'n_estimators': [10, 50, 100],\n",
        "    'max_depth': [5, 10, 15]\n",
        "}"
      ],
      "metadata": {
        "id": "JYiK4wy5LP9h"
      },
      "execution_count": null,
      "outputs": []
    },
    {
      "cell_type": "code",
      "source": [
        "# Create model and grid search\n",
        "model = RandomForestClassifier()\n",
        "grid_search = GridSearchCV(model, param_grid, cv=5, scoring='accuracy')\n",
        "grid_search.fit(X_train, y_train)"
      ],
      "metadata": {
        "id": "H1tZ-Id9LSEr"
      },
      "execution_count": null,
      "outputs": []
    },
    {
      "cell_type": "code",
      "source": [
        "# Best parameters\n",
        "print(f'Best Parameters: {grid_search.best_params_}')"
      ],
      "metadata": {
        "id": "3R2CzdFbLU6c"
      },
      "execution_count": null,
      "outputs": []
    },
    {
      "cell_type": "markdown",
      "source": [
        "- **Explanation:** This code uses grid search to find the best hyperparameters for a Random Forest model, optimizing its performance."
      ],
      "metadata": {
        "id": "rXABXW7bLWfg"
      }
    },
    {
      "cell_type": "markdown",
      "source": [
        "#### **Feature Engineering and Selection**\n",
        "\n",
        "- **Definition:** Create and select features that improve the predictive power of the model. Techniques include adding new technical indicators or reducing dimensionality using methods like Principal Component Analysis (PCA).\n",
        "- **Hands-on Example:** Feature Selection with PCA"
      ],
      "metadata": {
        "id": "6BoXVtOyLeNB"
      }
    },
    {
      "cell_type": "code",
      "source": [
        "from sklearn.decomposition import PCA"
      ],
      "metadata": {
        "id": "ws_BqhqMLlKC"
      },
      "execution_count": null,
      "outputs": []
    },
    {
      "cell_type": "code",
      "source": [
        "# Apply PCA to reduce dimensionality\n",
        "pca = PCA(n_components=2)\n",
        "X_pca = pca.fit_transform(X)"
      ],
      "metadata": {
        "id": "wsCsK0DRLoWW"
      },
      "execution_count": null,
      "outputs": []
    },
    {
      "cell_type": "code",
      "source": [
        "# Print explained variance\n",
        "print(f'Explained Variance Ratio: {pca.explained_variance_ratio_}')"
      ],
      "metadata": {
        "id": "H4ZqmNkzLqXo"
      },
      "execution_count": null,
      "outputs": []
    },
    {
      "cell_type": "markdown",
      "source": [
        "- **Explanation:** This code applies PCA to reduce the dimensionality of the feature set, which can help improve model performance and reduce overfitting."
      ],
      "metadata": {
        "id": "7l-GZWL6LrOD"
      }
    },
    {
      "cell_type": "markdown",
      "source": [
        "### **5.4 Advanced Techniques**\n",
        "\n",
        "- **Objective:** Explore cutting-edge techniques and approaches in AI-driven trading.\n",
        "\n",
        "<br>\n",
        "\n",
        "#### **Algorithmic Trading with Deep Learning**\n",
        "\n",
        "- **Recurrent Neural Networks (RNNs):** Useful for time series data as they can capture temporal dependencies.\n",
        "- **Hands-on Example:** RNN for Time Series Forecasting\n",
        "\n"
      ],
      "metadata": {
        "id": "Qq3MPwZ0LvVn"
      }
    },
    {
      "cell_type": "code",
      "source": [
        "from tensorflow.keras.models import Sequential\n",
        "from tensorflow.keras.layers import LSTM, Dense"
      ],
      "metadata": {
        "id": "qeiZvzuIL8MJ"
      },
      "execution_count": null,
      "outputs": []
    },
    {
      "cell_type": "code",
      "source": [
        "# Define RNN model\n",
        "model = Sequential([\n",
        "    LSTM(50, activation='relu', input_shape=(X_train.shape[1], 1)),\n",
        "    Dense(1)\n",
        "])\n",
        "model.compile(optimizer='adam', loss='mean_squared_error')"
      ],
      "metadata": {
        "id": "LCogxlaTL_S8"
      },
      "execution_count": null,
      "outputs": []
    },
    {
      "cell_type": "code",
      "source": [
        "# Reshape data for RNN\n",
        "X_train_rnn = np.reshape(X_train.values, (X_train.shape[0], X_train.shape[1], 1))"
      ],
      "metadata": {
        "id": "ClTMhSkBMBAV"
      },
      "execution_count": null,
      "outputs": []
    },
    {
      "cell_type": "code",
      "source": [
        "# Train the model\n",
        "model.fit(X_train_rnn, y_train, epochs=10, batch_size=32)"
      ],
      "metadata": {
        "id": "6DoUmRn6MCvh"
      },
      "execution_count": null,
      "outputs": []
    },
    {
      "cell_type": "markdown",
      "source": [
        "- **Explanation:** This code defines and trains a basic LSTM model for time series forecasting, which can be used for developing sophisticated trading strategies."
      ],
      "metadata": {
        "id": "uWZXObbcMGl5"
      }
    },
    {
      "cell_type": "markdown",
      "source": [
        "#### **Multi-Agent Systems**\n",
        "\n",
        "- **Definition:** Multiple AI agents that interact and learn in a shared environment, potentially leading to more robust trading strategies.\n",
        "- **Hands-on Example:** Multi-Agent System Concept"
      ],
      "metadata": {
        "id": "qcVWjILiMIgi"
      }
    },
    {
      "cell_type": "code",
      "source": [
        "# Pseudo-code for multi-agent system\n",
        "class TradingAgent:\n",
        "    def __init__(self):\n",
        "        # Initialize agent\n",
        "        pass\n",
        "\n",
        "    def act(self, state):\n",
        "        # Define action based on state\n",
        "        pass\n",
        "\n",
        "    def learn(self, reward):\n",
        "        # Update agent based on reward\n",
        "        pass"
      ],
      "metadata": {
        "id": "t_DCMowdMPlI"
      },
      "execution_count": null,
      "outputs": []
    },
    {
      "cell_type": "code",
      "source": [
        "# Initialize agents and environment\n",
        "agents = [TradingAgent() for _ in range(num_agents)]"
      ],
      "metadata": {
        "id": "FOPzCzSZMSkj"
      },
      "execution_count": null,
      "outputs": []
    },
    {
      "cell_type": "markdown",
      "source": [
        "- **Explanation:** This is a conceptual example where multiple trading agents interact within an environment, learning and making decisions collectively."
      ],
      "metadata": {
        "id": "eWQTQ37jMVXM"
      }
    },
    {
      "cell_type": "markdown",
      "source": [
        "### **5.5 Further Reading and Resources**\n",
        "\n",
        "- **Online Courses:**\n",
        "  - Coursera’s “Algorithmic Trading” by the University of Michigan\n",
        "  - Udacity’s “AI for Trading” Nanodegree\n",
        "\n",
        "- **Websites:**\n",
        "  - [QuantConnect](https://www.quantconnect.com/) for algorithmic trading resources and tools.\n",
        "  - [Backtrader](https://www.backtrader.com/) for backtesting trading strategies."
      ],
      "metadata": {
        "id": "pZI3TuAsMXq-"
      }
    }
  ]
}