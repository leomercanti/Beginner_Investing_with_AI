{
  "nbformat": 4,
  "nbformat_minor": 0,
  "metadata": {
    "colab": {
      "provenance": [],
      "authorship_tag": "ABX9TyPKiEAOj+5GaOtt0ZSnRBQX",
      "include_colab_link": true
    },
    "kernelspec": {
      "name": "python3",
      "display_name": "Python 3"
    },
    "language_info": {
      "name": "python"
    }
  },
  "cells": [
    {
      "cell_type": "markdown",
      "metadata": {
        "id": "view-in-github",
        "colab_type": "text"
      },
      "source": [
        "<a href=\"https://colab.research.google.com/github/leomercanti/Beginner_Investing_with_AI/blob/main/Module_2_Data_Science_Fundamentals_for_Investing.ipynb\" target=\"_parent\"><img src=\"https://colab.research.google.com/assets/colab-badge.svg\" alt=\"Open In Colab\"/></a>"
      ]
    },
    {
      "cell_type": "markdown",
      "source": [
        "# **Module 2 - Data Science Fundamentals for Investing**\n",
        "\n",
        "- **Objective:** Acquire skills for handling and analyzing financial data.\n",
        "\n",
        "- **Topics:**\n",
        "  - **Data Collection:** Using APIs and web scraping.\n",
        "  - **Data Cleaning:** Handling missing values, normalization.\n",
        "  - **Exploratory Data Analysis (EDA):** Statistical summaries, visualizations.\n",
        "\n",
        "- **Readings:**\n",
        "  - “Python for Data Analysis” by Wes McKinney."
      ],
      "metadata": {
        "id": "4_6InCV78-FW"
      }
    },
    {
      "cell_type": "markdown",
      "source": [
        "### **2.1 Data Collection and Cleaning**\n",
        "\n",
        "- **Objective:** Learn how to gather and prepare financial data for analysis."
      ],
      "metadata": {
        "id": "NqZ7R0aF-hwN"
      }
    },
    {
      "cell_type": "markdown",
      "source": [
        "#### **Data Collection**\n",
        "\n",
        "  - **APIs:** Many financial platforms offer APIs to access market data. For example, Yahoo Finance, Alpha Vantage, and Quandl provide various financial data sets.\n",
        "  \n",
        "  - **Web Scraping:** Another method is to scrape financial data from websites. Libraries like BeautifulSoup and Scrapy can help with this.\n",
        "\n",
        "- **Hands-on Example:** Fetching Data with Yahoo Finance API"
      ],
      "metadata": {
        "id": "6iYjwnDJDYO9"
      }
    },
    {
      "cell_type": "code",
      "source": [
        "# Install Required Libraries - Only needed if you are running this code out of Google Colab\n",
        "!pip install yfinance"
      ],
      "metadata": {
        "id": "J--jTXUk-_o_"
      },
      "execution_count": null,
      "outputs": []
    },
    {
      "cell_type": "code",
      "execution_count": null,
      "metadata": {
        "id": "2jgyTDOE8xUd"
      },
      "outputs": [],
      "source": [
        "import yfinance as yf"
      ]
    },
    {
      "cell_type": "code",
      "source": [
        "# Fetch historical data for a stock\n",
        "data = yf.download('AAPL', start='2021-01-01', end='2024-09-01')"
      ],
      "metadata": {
        "id": "EHh73DRq_LnH"
      },
      "execution_count": null,
      "outputs": []
    },
    {
      "cell_type": "code",
      "source": [
        "# Display first few rows\n",
        "print(data.head())"
      ],
      "metadata": {
        "id": "piMP3VlE_OEq"
      },
      "execution_count": null,
      "outputs": []
    },
    {
      "cell_type": "markdown",
      "source": [
        "- **Explanation:** This code uses the yfinance library to download historical stock data for Apple (AAPL) from January 1, 2020, to January 1, 2023."
      ],
      "metadata": {
        "id": "FUKTvUE__UgW"
      }
    },
    {
      "cell_type": "markdown",
      "source": [
        "#### **Data Cleaning**\n",
        "\n",
        "  - **Handling Missing Values:** Financial data often contains missing values. Common strategies include forward-fill, backward-fill, or interpolation.\n",
        "  - **Normalization:** Scale features to ensure they contribute equally to the analysis. Techniques include min-max scaling or z-score normalization.\n",
        "\n",
        "- **Hands-on Example:** Cleaning Data"
      ],
      "metadata": {
        "id": "1U-uVuwA_Xx8"
      }
    },
    {
      "cell_type": "code",
      "source": [
        "# Forward fill missing values\n",
        "data = data.fillna(method='ffill')"
      ],
      "metadata": {
        "id": "K4mX7qri_4Ms"
      },
      "execution_count": null,
      "outputs": []
    },
    {
      "cell_type": "code",
      "source": [
        "# Display cleaned data\n",
        "print(data.head())"
      ],
      "metadata": {
        "id": "GPNc8ESj_7_-"
      },
      "execution_count": null,
      "outputs": []
    },
    {
      "cell_type": "markdown",
      "source": [
        "- **Explanation:** This code forward-fills missing values in the dataset, ensuring that each missing value is replaced with the last valid observation."
      ],
      "metadata": {
        "id": "djgcTTxvADDU"
      }
    },
    {
      "cell_type": "markdown",
      "source": [
        "### **2.2 Exploratory Data Analysis (EDA)**\n",
        "\n",
        "- **Objective:** Analyze and visualize financial data to uncover patterns and insights."
      ],
      "metadata": {
        "id": "t_ZsJUIqAMPv"
      }
    },
    {
      "cell_type": "markdown",
      "source": [
        "#### **Descriptive Statistics**\n",
        "\n",
        "  - **Summary Statistics:** Calculate measures such as mean, median, standard deviation to understand the data's distribution.\n",
        "\n",
        "- **Hands-on Example:** Descriptive Statistics"
      ],
      "metadata": {
        "id": "TLE1cX4uDiKP"
      }
    },
    {
      "cell_type": "code",
      "source": [
        "# Summary statistics\n",
        "print(data.describe())"
      ],
      "metadata": {
        "id": "Rddmy-ZsAgUr"
      },
      "execution_count": null,
      "outputs": []
    },
    {
      "cell_type": "markdown",
      "source": [
        "- **Explanation:** The describe method provides key statistical metrics, including mean, standard deviation, and quartiles."
      ],
      "metadata": {
        "id": "f_0XQemdAicC"
      }
    },
    {
      "cell_type": "markdown",
      "source": [
        "#### **Data Visualization**\n",
        "\n",
        "  - **Time Series Analysis:** Plot time-series data to observe trends, seasonality, and anomalies.\n",
        "\n",
        "  - **Correlation Analysis:** Use scatter plots and heatmaps to understand relationships between variables.\n",
        "\n",
        "- **Hands-on Example:** Time Series Plot"
      ],
      "metadata": {
        "id": "VPgAdvz1AmdE"
      }
    },
    {
      "cell_type": "code",
      "source": [
        "import matplotlib.pyplot as plt\n",
        "import seaborn as sns"
      ],
      "metadata": {
        "id": "lXdrRYRsBCCh"
      },
      "execution_count": null,
      "outputs": []
    },
    {
      "cell_type": "code",
      "source": [
        "# Plot closing prices\n",
        "plt.figure(figsize=(10, 6))\n",
        "plt.plot(data.index, data['Close'], label='AAPL Closing Price')\n",
        "plt.title('AAPL Closing Prices Over Time')\n",
        "plt.xlabel('Date')\n",
        "plt.ylabel('Price')\n",
        "plt.legend()\n",
        "plt.show()"
      ],
      "metadata": {
        "id": "lKWV7a-jBE4M"
      },
      "execution_count": null,
      "outputs": []
    },
    {
      "cell_type": "markdown",
      "source": [
        "  - **Hands-on Example:** Correlation Heatmap"
      ],
      "metadata": {
        "id": "THgLI7KaBPiO"
      }
    },
    {
      "cell_type": "code",
      "source": [
        "# Calculate correlation matrix\n",
        "correlation_matrix = data.corr()"
      ],
      "metadata": {
        "id": "uCIJ1MkRBau5"
      },
      "execution_count": null,
      "outputs": []
    },
    {
      "cell_type": "code",
      "source": [
        "# Plot heatmap\n",
        "plt.figure(figsize=(10, 8))\n",
        "sns.heatmap(correlation_matrix, annot=True, cmap='coolwarm', fmt='.2f')\n",
        "plt.title('Correlation Heatmap')\n",
        "plt.show()"
      ],
      "metadata": {
        "id": "1L6bRGCvBcXT"
      },
      "execution_count": null,
      "outputs": []
    },
    {
      "cell_type": "markdown",
      "source": [
        "- **Explanation:** The time series plot shows the trend in closing prices, while the heatmap visualizes the correlation between different features in the dataset."
      ],
      "metadata": {
        "id": "rW0udsTHB5F7"
      }
    },
    {
      "cell_type": "markdown",
      "source": [
        "### **2.3 Feature Engineering**\n",
        "\n",
        "- **Objective:** Create and select features that are relevant for machine learning models."
      ],
      "metadata": {
        "id": "-zkNGpHAB-pC"
      }
    },
    {
      "cell_type": "markdown",
      "source": [
        "#### **Creating Features**\n",
        "\n",
        "  - **Technical Indicators:** Compute indicators like moving averages, relative strength index (RSI), and volatility.\n",
        "\n",
        "  - **Lag Features:** Include past values as features to capture temporal dependencies.\n",
        "\n",
        "- **Hands-on Example:** Creating Moving Averages"
      ],
      "metadata": {
        "id": "jlDMWaaKDq8_"
      }
    },
    {
      "cell_type": "code",
      "source": [
        "# Calculate moving averages\n",
        "data['SMA_20'] = data['Close'].rolling(window=20).mean()\n",
        "data['SMA_50'] = data['Close'].rolling(window=50).mean()"
      ],
      "metadata": {
        "id": "AWHiTGyVCOqy"
      },
      "execution_count": null,
      "outputs": []
    },
    {
      "cell_type": "code",
      "source": [
        "# Plot closing price and moving averages\n",
        "plt.figure(figsize=(10, 6))\n",
        "plt.plot(data.index, data['Close'], label='AAPL Closing Price')\n",
        "plt.plot(data.index, data['SMA_20'], label='20-Day SMA', color='orange')\n",
        "plt.plot(data.index, data['SMA_50'], label='50-Day SMA', color='green')\n",
        "plt.title('AAPL Closing Price and Moving Averages')\n",
        "plt.xlabel('Date')\n",
        "plt.ylabel('Price')\n",
        "plt.legend()\n",
        "plt.show()"
      ],
      "metadata": {
        "id": "49RxpTXyCQer"
      },
      "execution_count": null,
      "outputs": []
    },
    {
      "cell_type": "markdown",
      "source": [
        "- **Explanation:** This code calculates and plots 20-day and 50-day simple moving averages (SMA), which are commonly used technical indicators."
      ],
      "metadata": {
        "id": "Ntp4yKIBCSqi"
      }
    },
    {
      "cell_type": "markdown",
      "source": [
        "#### **Feature Selection**\n",
        "\n",
        "  - **Correlation:** Use correlation coefficients to identify relevant features.\n",
        "\n",
        "  - **Feature Importance:** Algorithms like Random Forest can rank feature importance.\n",
        "\n",
        "- **Hands-on Example:** Feature Selection with Correlation"
      ],
      "metadata": {
        "id": "lR_n3D6oCWtA"
      }
    },
    {
      "cell_type": "code",
      "source": [
        "# Select features with high correlation to the target\n",
        "high_corr_features = correlation_matrix['Close'].sort_values(ascending=False)\n",
        "print(high_corr_features)"
      ],
      "metadata": {
        "id": "wDkbxsiDChfo"
      },
      "execution_count": null,
      "outputs": []
    },
    {
      "cell_type": "markdown",
      "source": [
        "- **Explanation:** This code identifies features that have a strong correlation with the target variable (closing price)."
      ],
      "metadata": {
        "id": "TayVu93dCjBr"
      }
    },
    {
      "cell_type": "markdown",
      "source": [
        "### **2.4 Further Reading and Resources**\n",
        "\n",
        "- **Books:**\n",
        "  - “Python for Data Analysis” by Wes McKinney\n",
        "  - “Data Science for Finance” by Michael Halls-Moore\n",
        "\n",
        "- **Online Courses:**\n",
        "\n",
        "  - Coursera’s “Data Science Specialization” by Johns Hopkins University\n",
        "  - DataCamp’s “Introduction to Financial Concepts in Python”\n",
        "\n",
        "- **Websites:**\n",
        "\n",
        "  - [Kaggle](https://www.kaggle.com/) for datasets and competitions related to financial data."
      ],
      "metadata": {
        "id": "G66jSOPZCpHo"
      }
    }
  ]
}