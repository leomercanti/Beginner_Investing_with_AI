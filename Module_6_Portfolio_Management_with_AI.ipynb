{
  "nbformat": 4,
  "nbformat_minor": 0,
  "metadata": {
    "colab": {
      "provenance": [],
      "authorship_tag": "ABX9TyOm5C1p9YX6e4FM7Q1qQmoG",
      "include_colab_link": true
    },
    "kernelspec": {
      "name": "python3",
      "display_name": "Python 3"
    },
    "language_info": {
      "name": "python"
    }
  },
  "cells": [
    {
      "cell_type": "markdown",
      "metadata": {
        "id": "view-in-github",
        "colab_type": "text"
      },
      "source": [
        "<a href=\"https://colab.research.google.com/github/leomercanti/Beginner_Investing_with_AI/blob/main/Module_6_Portfolio_Management_with_AI.ipynb\" target=\"_parent\"><img src=\"https://colab.research.google.com/assets/colab-badge.svg\" alt=\"Open In Colab\"/></a>"
      ]
    },
    {
      "cell_type": "markdown",
      "source": [
        "# **Module 6 - Portfolio Management with AI**\n",
        "\n",
        "- **Objective:** Learn how to use AI for optimizing and managing investment portfolios.\n",
        "\n",
        "- **Topics:**\n",
        "  - Portfolio Theory: Basics of risk and return, diversification.\n",
        "  - Optimization Techniques: Genetic algorithms, modern portfolio theory."
      ],
      "metadata": {
        "id": "hF5HIp66Oa4n"
      }
    },
    {
      "cell_type": "markdown",
      "source": [
        "### **6.1 Portfolio Optimization**\n",
        "\n",
        "- **Objective:** Learn how to use AI to optimize investment portfolios for better performance and risk management.\n",
        "\n",
        "<br>\n",
        "\n",
        "#### **Modern Portfolio Theory (MPT)**\n",
        "\n",
        "- **Definition:** A theory that helps in constructing a portfolio of assets that maximizes returns for a given level of risk. It is based on the concept of diversification.\n",
        "- **Key Metrics:**\n",
        "  - **Expected Return:** The anticipated return from the portfolio.\n",
        "  - **Risk (Volatility):** The standard deviation of portfolio returns.\n",
        "  - **Efficient Frontier:** A curve representing the set of optimal portfolios offering the highest expected return for a given level of risk.\n",
        "\n",
        "- **Hands-on Example:** Portfolio Optimization with MPT"
      ],
      "metadata": {
        "id": "cWKqILoSOtll"
      }
    },
    {
      "cell_type": "code",
      "source": [
        "import numpy as np\n",
        "import pandas as pd\n",
        "import scipy.optimize as sco"
      ],
      "metadata": {
        "id": "I1mrwVa6PIx-"
      },
      "execution_count": null,
      "outputs": []
    },
    {
      "cell_type": "code",
      "source": [
        "# Example data: returns of 3 assets\n",
        "returns = pd.DataFrame({\n",
        "    'Asset1': np.random.normal(0.01, 0.02, 1000),\n",
        "    'Asset2': np.random.normal(0.01, 0.03, 1000),\n",
        "    'Asset3': np.random.normal(0.01, 0.025, 1000)\n",
        "})"
      ],
      "metadata": {
        "id": "xPA-4OKGPQOW"
      },
      "execution_count": null,
      "outputs": []
    },
    {
      "cell_type": "code",
      "source": [
        "# Calculate expected returns and covariance matrix\n",
        "mean_returns = returns.mean()\n",
        "cov_matrix = returns.cov()\n",
        "\n",
        "def portfolio_performance(weights, mean_returns, cov_matrix):\n",
        "    portfolio_return = np.sum(mean_returns * weights)\n",
        "    portfolio_volatility = np.sqrt(np.dot(weights.T, np.dot(cov_matrix, weights)))\n",
        "    return portfolio_return, portfolio_volatility\n",
        "\n",
        "def min_variance(weights):\n",
        "    return portfolio_performance(weights, mean_returns, cov_matrix)[1]\n",
        "\n",
        "def optimize_portfolio():\n",
        "    num_assets = len(mean_returns)\n",
        "    initial_weights = num_assets * [1. / num_assets]\n",
        "    bounds = tuple((0, 1) for _ in range(num_assets))\n",
        "    constraints = ({'type': 'eq', 'fun': lambda x: np.sum(x) - 1})\n",
        "    result = sco.minimize(min_variance, initial_weights, method='SLSQP', bounds=bounds, constraints=constraints)\n",
        "    return result\n",
        "\n",
        "optimal_portfolio = optimize_portfolio()\n",
        "print(f'Optimal Weights: {optimal_portfolio.x}')"
      ],
      "metadata": {
        "id": "AnDQjf_lPR7N"
      },
      "execution_count": null,
      "outputs": []
    },
    {
      "cell_type": "markdown",
      "source": [
        "- **Explanation:** This code optimizes a portfolio to minimize volatility using the Modern Portfolio Theory approach. It calculates the optimal asset weights to achieve the lowest risk."
      ],
      "metadata": {
        "id": "h_Fsl33NPTHY"
      }
    },
    {
      "cell_type": "markdown",
      "source": [
        "#### **Black-Litterman Model**\n",
        "\n",
        "- **Definition:** An extension of MPT that incorporates investor views and market equilibrium to improve portfolio optimization.\n",
        "- **Key Concepts:**\n",
        "  - **Equilibrium Expected Returns:** Returns based on the market equilibrium.\n",
        "  - **Investor Views:** User-defined expectations about asset returns.\n",
        "\n",
        "- **Hands-on Example:** Black-Litterman Model Implementation"
      ],
      "metadata": {
        "id": "wN3zFUwqPZCj"
      }
    },
    {
      "cell_type": "code",
      "source": [
        "# Pseudo-code: Implementing Black-Litterman model requires advanced mathematical formulation.\n",
        "# This includes adjusting equilibrium returns based on investor views and recalculating the covariance matrix."
      ],
      "metadata": {
        "id": "yNQXOr1BPmrV"
      },
      "execution_count": null,
      "outputs": []
    },
    {
      "cell_type": "markdown",
      "source": [
        "- **Explanation:** The Black-Litterman model adjusts the equilibrium returns based on specific views or beliefs about asset performance, providing a more refined optimization approach."
      ],
      "metadata": {
        "id": "tQIItEqxPrOe"
      }
    },
    {
      "cell_type": "markdown",
      "source": [
        "### **6.2 Risk Management**\n",
        "\n",
        "- **Objective:** Utilize AI techniques to assess and manage risks within a portfolio.\n",
        "\n",
        "<br>\n",
        "\n",
        "#### **Value at Risk (VaR)**\n",
        "- **Definition:** A statistical measure that estimates the maximum loss expected over a given time period with a specified confidence level.\n",
        "- **Methods:**\n",
        "  - **Historical VaR:** Uses historical data to estimate risk.\n",
        "  - **Parametric VaR:** Assumes returns follow a normal distribution.\n",
        "\n",
        "- **Hands-on Example:** Historical VaR Calculation\n",
        "\n"
      ],
      "metadata": {
        "id": "67x5UP1IPtUE"
      }
    },
    {
      "cell_type": "code",
      "source": [
        "def calculate_var(returns, confidence_level=0.95):\n",
        "    return np.percentile(returns, (1 - confidence_level) * 100)\n",
        "\n",
        "# Example usage\n",
        "portfolio_returns = np.random.normal(0.01, 0.02, 1000)\n",
        "var_95 = calculate_var(portfolio_returns)\n",
        "print(f'Value at Risk (95% Confidence): {var_95}')"
      ],
      "metadata": {
        "id": "HZkKWxC5QGRu"
      },
      "execution_count": null,
      "outputs": []
    },
    {
      "cell_type": "markdown",
      "source": [
        "- **Explanation:** This code calculates the Value at Risk (VaR) for a portfolio, providing an estimate of potential losses under normal market conditions."
      ],
      "metadata": {
        "id": "o_nB3XSCQIJg"
      }
    },
    {
      "cell_type": "markdown",
      "source": [
        "#### **Conditional Value at Risk (CVaR)**\n",
        "\n",
        "- **Definition:** Measures the average loss exceeding the Value at Risk (VaR) and provides a more comprehensive risk assessment.\n",
        "Methods:\n",
        "- **Empirical CVaR:** Uses historical data to estimate the average loss beyond the VaR.\n",
        "- **Hands-on Example:** CVaR Calculation"
      ],
      "metadata": {
        "id": "HXex7FfiQM1f"
      }
    },
    {
      "cell_type": "code",
      "source": [
        "def calculate_cvar(returns, confidence_level=0.95):\n",
        "    var = calculate_var(returns, confidence_level)\n",
        "    return returns[returns <= var].mean()\n",
        "\n",
        "# Example usage\n",
        "cvar_95 = calculate_cvar(portfolio_returns)\n",
        "print(f'Conditional Value at Risk (95% Confidence): {cvar_95}')"
      ],
      "metadata": {
        "id": "6od5SO5AQXn2"
      },
      "execution_count": null,
      "outputs": []
    },
    {
      "cell_type": "markdown",
      "source": [
        "- **Explanation:** This code calculates the Conditional Value at Risk (CVaR), offering insights into the potential average loss beyond the VaR."
      ],
      "metadata": {
        "id": "-XFYYuuHQbYu"
      }
    },
    {
      "cell_type": "markdown",
      "source": [
        "### **6.3 AI-Driven Portfolio Management**\n",
        "\n",
        "- **Objective:** Explore how AI and machine learning techniques can enhance portfolio management through dynamic rebalancing and predictive analytics.\n",
        "\n",
        "<br>\n",
        "\n",
        "#### **Dynamic Rebalancing**\n",
        "\n",
        "- **Definition:** Adjusting the portfolio allocation in response to changing market conditions or new information.\n",
        "- **Techniques:**\n",
        "  - **Reinforcement Learning:** Using RL to optimize portfolio rebalancing based on performance feedback.\n",
        "- **Hands-on Example:** Dynamic Rebalancing with Reinforcement Learning"
      ],
      "metadata": {
        "id": "lziUoMT_QeLP"
      }
    },
    {
      "cell_type": "code",
      "source": [
        "# Pseudo-code: Implementing dynamic rebalancing with reinforcement learning involves setting up an RL environment\n",
        "# where the agent learns to adjust portfolio weights based on reward signals from portfolio performance."
      ],
      "metadata": {
        "id": "6CWp3_QMQ0sB"
      },
      "execution_count": null,
      "outputs": []
    },
    {
      "cell_type": "markdown",
      "source": [
        "- **Explanation:** This concept involves using reinforcement learning to dynamically adjust portfolio allocations based on feedback and market conditions."
      ],
      "metadata": {
        "id": "pKc3hr9NQ7F6"
      }
    },
    {
      "cell_type": "markdown",
      "source": [
        "#### **Predictive Analytics**\n",
        "\n",
        "- **Definition:** Using AI models to forecast asset prices, returns, and other relevant metrics to make informed investment decisions.\n",
        "- **Techniques:**\n",
        "  - **Time Series Forecasting:** Utilizing models like ARIMA, Prophet, or LSTM to predict future asset prices.\n",
        "- **Hands-on Example:** Time Series Forecasting with LSTM\n",
        "\n"
      ],
      "metadata": {
        "id": "8oHwBxqbQ84l"
      }
    },
    {
      "cell_type": "code",
      "source": [
        "from tensorflow.keras.models import Sequential\n",
        "from tensorflow.keras.layers import LSTM, Dense"
      ],
      "metadata": {
        "id": "sXrgHnGNRG_3"
      },
      "execution_count": null,
      "outputs": []
    },
    {
      "cell_type": "code",
      "source": [
        "# Define LSTM model for time series forecasting\n",
        "model = Sequential([\n",
        "    LSTM(50, activation='relu', input_shape=(X_train.shape[1], 1)),\n",
        "    Dense(1)\n",
        "])\n",
        "model.compile(optimizer='adam', loss='mean_squared_error')"
      ],
      "metadata": {
        "id": "zspzQ-F-ROpM"
      },
      "execution_count": null,
      "outputs": []
    },
    {
      "cell_type": "code",
      "source": [
        "# Train the model\n",
        "model.fit(X_train, y_train, epochs=10, batch_size=32)"
      ],
      "metadata": {
        "id": "lFlbiycWRLP_"
      },
      "execution_count": null,
      "outputs": []
    },
    {
      "cell_type": "code",
      "source": [
        "# Make predictions\n",
        "predictions = model.predict(X_test)"
      ],
      "metadata": {
        "id": "ez74BMLmRQfa"
      },
      "execution_count": null,
      "outputs": []
    },
    {
      "cell_type": "markdown",
      "source": [
        "- **Explanation:** This code demonstrates how to use an LSTM model to forecast asset prices, which can then be used to adjust portfolio allocations."
      ],
      "metadata": {
        "id": "j1bHpWNgRS3Q"
      }
    },
    {
      "cell_type": "markdown",
      "source": [
        "### **6.4 Further Reading and Resources**\n",
        "\n",
        "- **Books:**\n",
        "  - “The Black-Litterman Model” by Attilio Meucci\n",
        "\n",
        "- **Online Courses:**\n",
        "  - Coursera’s “Machine Learning for Trading” by Georgia Institute of Technology\n",
        "  - Udacity’s “AI for Trading” Nanodegree\n",
        "\n",
        "- **Websites:**\n",
        "  - [Quantopian](https://community.quantopian.com/home) for algorithmic trading and portfolio management resources.\n",
        "  - [Risk.net](https://www.risk.net/) for articles and research on risk management and financial analytics.\n"
      ],
      "metadata": {
        "id": "fWaBmO45RU_z"
      }
    }
  ]
}