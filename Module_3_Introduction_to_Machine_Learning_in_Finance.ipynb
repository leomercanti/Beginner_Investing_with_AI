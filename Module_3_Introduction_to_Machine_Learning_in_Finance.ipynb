{
  "nbformat": 4,
  "nbformat_minor": 0,
  "metadata": {
    "colab": {
      "provenance": [],
      "authorship_tag": "ABX9TyP5JVNAINfci3Ci8HdOm3DU",
      "include_colab_link": true
    },
    "kernelspec": {
      "name": "python3",
      "display_name": "Python 3"
    },
    "language_info": {
      "name": "python"
    }
  },
  "cells": [
    {
      "cell_type": "markdown",
      "metadata": {
        "id": "view-in-github",
        "colab_type": "text"
      },
      "source": [
        "<a href=\"https://colab.research.google.com/github/leomercanti/Beginner_Investing_with_AI/blob/main/Module_3_Introduction_to_Machine_Learning_in_Finance.ipynb\" target=\"_parent\"><img src=\"https://colab.research.google.com/assets/colab-badge.svg\" alt=\"Open In Colab\"/></a>"
      ]
    },
    {
      "cell_type": "markdown",
      "source": [
        "# **Module 3 - Introduction to Machine Learning in Finance**\n",
        "\n",
        "- **Objective:** Learn basic ML techniques and their application in finance.\n",
        "\n",
        "- **Topics:**\n",
        "  - **Supervised Learning:** Regression and classification techniques.\n",
        "  - **Model Evaluation:** Metrics such as MAE, RMSE, cross-validation.\n",
        "\n",
        "- **Readings:**\n",
        "  - “Hands-On Machine Learning with Scikit-Learn, Keras, and TensorFlow” by Aurélien Géron."
      ],
      "metadata": {
        "id": "bVcEGl3J8Y4q"
      }
    },
    {
      "cell_type": "markdown",
      "source": [
        "### **3.1 Supervised Learning**\n",
        "\n",
        "- **Objective:** Understand the basics of supervised learning and its application in finance.\n",
        "\n",
        "<br>\n",
        "\n",
        "#### **What is Supervised Learning?**\n",
        "\n",
        "- **Definition:** Supervised learning involves training a model on a labeled dataset, where the outcome (target) is known. The model learns to map inputs to outputs based on this data.\n",
        "- **Types of Problems:**\n",
        "  - **Regression:** Predicting continuous outcomes (e.g., predicting stock prices).\n",
        "  - **Classification:** Predicting categorical outcomes (e.g., classifying stock price movements as \"up\" or \"down\")."
      ],
      "metadata": {
        "id": "0n_CsnWa8vZI"
      }
    },
    {
      "cell_type": "markdown",
      "source": [
        "#### **Regression Techniques**\n",
        "\n",
        "- **Linear Regression:** A fundamental technique for predicting continuous outcomes.\n",
        "\n",
        "- **Hands-on Example:** Linear Regression in Finance"
      ],
      "metadata": {
        "id": "XL9ffAng_eNm"
      }
    },
    {
      "cell_type": "code",
      "execution_count": null,
      "metadata": {
        "id": "j2OSQ9_l8Siu"
      },
      "outputs": [],
      "source": [
        "from sklearn.linear_model import LinearRegression\n",
        "from sklearn.model_selection import train_test_split\n",
        "from sklearn.metrics import mean_squared_error"
      ]
    },
    {
      "cell_type": "code",
      "source": [
        "# Example: Predicting stock price based on features\n",
        "X = data[['Open', 'High', 'Low', 'Volume']]  # Features\n",
        "y = data['Close']  # Target variable"
      ],
      "metadata": {
        "id": "BPCJM3nF_rt2"
      },
      "execution_count": null,
      "outputs": []
    },
    {
      "cell_type": "code",
      "source": [
        "# Split data into training and testing sets\n",
        "X_train, X_test, y_train, y_test = train_test_split(X, y, test_size=0.2, random_state=42)"
      ],
      "metadata": {
        "id": "J9qoCB90_uNP"
      },
      "execution_count": null,
      "outputs": []
    },
    {
      "cell_type": "code",
      "source": [
        "# Create and train the model\n",
        "model = LinearRegression()\n",
        "model.fit(X_train, y_train)"
      ],
      "metadata": {
        "id": "auXVebmN_v0b"
      },
      "execution_count": null,
      "outputs": []
    },
    {
      "cell_type": "code",
      "source": [
        "# Make predictions\n",
        "predictions = model.predict(X_test)"
      ],
      "metadata": {
        "id": "RZEuCL5S_xl6"
      },
      "execution_count": null,
      "outputs": []
    },
    {
      "cell_type": "code",
      "source": [
        "# Evaluate the model\n",
        "mse = mean_squared_error(y_test, predictions)\n",
        "print(f'Mean Squared Error: {mse}')"
      ],
      "metadata": {
        "id": "t20FjGCT_zVa"
      },
      "execution_count": null,
      "outputs": []
    },
    {
      "cell_type": "markdown",
      "source": [
        "- **Explanation:** This code trains a linear regression model to predict stock prices based on features like opening price and volume. It then evaluates the model using Mean Squared Error (MSE)."
      ],
      "metadata": {
        "id": "Neutz6Rb_2DL"
      }
    },
    {
      "cell_type": "markdown",
      "source": [
        "#### **Classification Techniques**\n",
        "\n",
        "- **Logistic Regression:** Used for binary classification problems (e.g., predicting if the price will go up or down).\n",
        "\n",
        "- **Hands-on Example:** Logistic Regression for Classification"
      ],
      "metadata": {
        "id": "kwv1lk7c_4Z1"
      }
    },
    {
      "cell_type": "code",
      "source": [
        "from sklearn.linear_model import LogisticRegression\n",
        "from sklearn.metrics import accuracy_score"
      ],
      "metadata": {
        "id": "T0voUsPOAA7Y"
      },
      "execution_count": null,
      "outputs": []
    },
    {
      "cell_type": "code",
      "source": [
        "# Example: Classifying stock price movement\n",
        "data['Target'] = (data['Close'].shift(-1) > data['Close']).astype(int)  # 1 if price goes up, else 0\n",
        "X = data[['Open', 'High', 'Low', 'Volume']]\n",
        "y = data['Target']"
      ],
      "metadata": {
        "id": "70VN3d8lAExv"
      },
      "execution_count": null,
      "outputs": []
    },
    {
      "cell_type": "code",
      "source": [
        "# Split data into training and testing sets\n",
        "X_train, X_test, y_train, y_test = train_test_split(X, y, test_size=0.2, random_state=42)"
      ],
      "metadata": {
        "id": "s_4CQiKhAGT5"
      },
      "execution_count": null,
      "outputs": []
    },
    {
      "cell_type": "code",
      "source": [
        "# Create and train the model\n",
        "model = LogisticRegression()\n",
        "model.fit(X_train, y_train)"
      ],
      "metadata": {
        "id": "_iECWVtOAH0Q"
      },
      "execution_count": null,
      "outputs": []
    },
    {
      "cell_type": "code",
      "source": [
        "# Make predictions\n",
        "predictions = model.predict(X_test)"
      ],
      "metadata": {
        "id": "YBVG291AAJSk"
      },
      "execution_count": null,
      "outputs": []
    },
    {
      "cell_type": "code",
      "source": [
        "# Evaluate the model\n",
        "accuracy = accuracy_score(y_test, predictions)\n",
        "print(f'Accuracy: {accuracy}')"
      ],
      "metadata": {
        "id": "80q05hW4ALXW"
      },
      "execution_count": null,
      "outputs": []
    },
    {
      "cell_type": "markdown",
      "source": [
        "- **Explanation:** This code trains a logistic regression model to classify whether the stock price will go up or down based on features. It evaluates the model's performance using accuracy."
      ],
      "metadata": {
        "id": "EeVB3HD-AMpo"
      }
    },
    {
      "cell_type": "markdown",
      "source": [
        "### **3.2 Model Evaluation**\n",
        "\n",
        "- **Objective:** Learn how to evaluate and validate machine learning models effectively.\n",
        "\n",
        "<br>\n",
        "\n",
        "#### **Evaluation Metrics**\n",
        "\n",
        "- **Regression Metrics:**\n",
        "  - **Mean Squared Error (MSE):** Measures the average squared difference between actual and predicted values.\n",
        "  - **R-squared:** Represents the proportion of variance explained by the model.\n",
        "\n",
        "- **Classification Metrics:**\n",
        "  - **Accuracy:** The proportion of correctly classified instances.\n",
        "  - **Precision, Recall, F1-Score:** Metrics that provide insights into the model’s performance on imbalanced datasets.\n",
        "\n",
        "- **Hands-on Example:** Evaluation Metrics for Classification"
      ],
      "metadata": {
        "id": "vIgCO901AW_E"
      }
    },
    {
      "cell_type": "code",
      "source": [
        "from sklearn.metrics import classification_report, confusion_matrix"
      ],
      "metadata": {
        "id": "cMKLZw-oA3k4"
      },
      "execution_count": null,
      "outputs": []
    },
    {
      "cell_type": "code",
      "source": [
        "# Print classification report\n",
        "print(classification_report(y_test, predictions))"
      ],
      "metadata": {
        "id": "Gp0yN8lMA5m9"
      },
      "execution_count": null,
      "outputs": []
    },
    {
      "cell_type": "code",
      "source": [
        "# Print confusion matrix\n",
        "print(confusion_matrix(y_test, predictions))"
      ],
      "metadata": {
        "id": "CzSKECZhA8z5"
      },
      "execution_count": null,
      "outputs": []
    },
    {
      "cell_type": "markdown",
      "source": [
        "- **Explanation:** The classification report provides detailed metrics like precision, recall, and F1-score, while the confusion matrix shows the counts of true positives, true negatives, false positives, and false negatives."
      ],
      "metadata": {
        "id": "yBIF-W5WA_Mg"
      }
    },
    {
      "cell_type": "markdown",
      "source": [
        "#### **Cross-Validation**\n",
        "\n",
        "- **Definition:** A technique to assess the model’s performance by dividing the dataset into multiple folds and training/testing the model on different subsets.\n",
        "\n",
        "- **Hands-on Example:** Cross-Validation"
      ],
      "metadata": {
        "id": "NjnjU0ORBGuB"
      }
    },
    {
      "cell_type": "code",
      "source": [
        "from sklearn.model_selection import cross_val_score"
      ],
      "metadata": {
        "id": "5VPLzKh8BOrY"
      },
      "execution_count": null,
      "outputs": []
    },
    {
      "cell_type": "code",
      "source": [
        "# Perform cross-validation\n",
        "cv_scores = cross_val_score(model, X, y, cv=5)\n",
        "print(f'Cross-Validation Scores: {cv_scores}')\n",
        "print(f'Mean Cross-Validation Score: {cv_scores.mean()}')"
      ],
      "metadata": {
        "id": "T6RkV1cRBRnI"
      },
      "execution_count": null,
      "outputs": []
    },
    {
      "cell_type": "markdown",
      "source": [
        "- **Explanation:** Cross-validation scores provide insights into the model’s performance across different subsets of the data, helping to ensure that the model generalizes well."
      ],
      "metadata": {
        "id": "onEeBc9FBSec"
      }
    },
    {
      "cell_type": "markdown",
      "source": [
        "### **3.3 Advanced Techniques**\n",
        "\n",
        "- **Objective:** Explore more advanced machine learning techniques used in finance.\n",
        "\n",
        "#### **Ensemble Methods**\n",
        "\n",
        "- **Random Forest:** An ensemble of decision trees that improves predictive performance by averaging the results of multiple trees.\n",
        "\n",
        "- **Hands-on Example:** Random Forest Regressor"
      ],
      "metadata": {
        "id": "lNRT9g1JBWAq"
      }
    },
    {
      "cell_type": "code",
      "source": [
        "from sklearn.ensemble import RandomForestRegressor"
      ],
      "metadata": {
        "id": "U8_DowohBhjf"
      },
      "execution_count": null,
      "outputs": []
    },
    {
      "cell_type": "code",
      "source": [
        "# Create and train model\n",
        "rf_model = RandomForestRegressor(n_estimators=100, random_state=42)\n",
        "rf_model.fit(X_train, y_train)"
      ],
      "metadata": {
        "id": "Z8aD6KLQBkjG"
      },
      "execution_count": null,
      "outputs": []
    },
    {
      "cell_type": "code",
      "source": [
        "# Make predictions\n",
        "rf_predictions = rf_model.predict(X_test)"
      ],
      "metadata": {
        "id": "lOvMogLsBmP9"
      },
      "execution_count": null,
      "outputs": []
    },
    {
      "cell_type": "code",
      "source": [
        "# Evaluate model\n",
        "rf_mse = mean_squared_error(y_test, rf_predictions)\n",
        "print(f'Random Forest Mean Squared Error: {rf_mse}')"
      ],
      "metadata": {
        "id": "rVPNM6LwBn0H"
      },
      "execution_count": null,
      "outputs": []
    },
    {
      "cell_type": "markdown",
      "source": [
        "- **Explanation:** The Random Forest Regressor aggregates multiple decision trees to enhance prediction accuracy and robustness."
      ],
      "metadata": {
        "id": "cuDhw5DPBpne"
      }
    },
    {
      "cell_type": "markdown",
      "source": [
        "#### **Neural Networks**\n",
        "\n",
        "- **Introduction:** Neural networks, particularly deep learning models, can capture complex patterns in large datasets.\n",
        "\n",
        "- **Hands-on Example:** Basic Neural Network with Keras"
      ],
      "metadata": {
        "id": "Q3N1zHhTBtFt"
      }
    },
    {
      "cell_type": "code",
      "source": [
        "from tensorflow.keras.models import Sequential\n",
        "from tensorflow.keras.layers import Dense"
      ],
      "metadata": {
        "id": "OxUeWKVOCcu4"
      },
      "execution_count": null,
      "outputs": []
    },
    {
      "cell_type": "code",
      "source": [
        "# Define the neural network model\n",
        "nn_model = Sequential([\n",
        "    Dense(64, activation='relu', input_shape=(X_train.shape[1],)),\n",
        "    Dense(32, activation='relu'),\n",
        "    Dense(1)\n",
        "])"
      ],
      "metadata": {
        "id": "uam5E5ugCiF2"
      },
      "execution_count": null,
      "outputs": []
    },
    {
      "cell_type": "code",
      "source": [
        "# Compile and train the model\n",
        "nn_model.compile(optimizer='adam', loss='mean_squared_error')\n",
        "nn_model.fit(X_train, y_train, epochs=10, batch_size=32, validation_split=0.1)"
      ],
      "metadata": {
        "id": "y7PqHookCj2O"
      },
      "execution_count": null,
      "outputs": []
    },
    {
      "cell_type": "code",
      "source": [
        "# Make predictions\n",
        "nn_predictions = nn_model.predict(X_test)"
      ],
      "metadata": {
        "id": "gZOAlMafClYx"
      },
      "execution_count": null,
      "outputs": []
    },
    {
      "cell_type": "code",
      "source": [
        "# Evaluate model\n",
        "nn_mse = mean_squared_error(y_test, nn_predictions)\n",
        "print(f'Neural Network Mean Squared Error: {nn_mse}')"
      ],
      "metadata": {
        "id": "z8v8BU-sCoH0"
      },
      "execution_count": null,
      "outputs": []
    },
    {
      "cell_type": "markdown",
      "source": [
        "- **Explanation:** This code defines and trains a simple neural network for regression tasks. It demonstrates how deep learning models can be applied to financial predictions."
      ],
      "metadata": {
        "id": "XtOQZxm7CtuT"
      }
    },
    {
      "cell_type": "markdown",
      "source": [
        "### **3.4 Further Reading and Resources**\n",
        "\n",
        "- **Books:**\n",
        "  - “Hands-On Machine Learning with Scikit-Learn, Keras, and TensorFlow” by Aurélien Géron\n",
        "  - “Advances in Financial Machine Learning” by Marcos López de Prado\n",
        "\n",
        "- **Online Courses:**\n",
        "  - Udacity’s “Deep Learning Nanodegree” for more in-depth neural network training."
      ],
      "metadata": {
        "id": "ykA2YfyOCwUA"
      }
    }
  ]
}